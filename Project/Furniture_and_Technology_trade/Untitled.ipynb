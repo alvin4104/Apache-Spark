{
 "cells": [
  {
   "cell_type": "code",
   "execution_count": 1,
   "id": "4e5663fc-111b-4c3f-b789-7a1f547d0e44",
   "metadata": {},
   "outputs": [],
   "source": [
    "from pyspark.sql import SparkSession"
   ]
  },
  {
   "cell_type": "code",
   "execution_count": 2,
   "id": "9eee88ca-d291-495c-b5ab-163796020747",
   "metadata": {},
   "outputs": [],
   "source": [
    "from pyspark.sql.functions import col\n",
    "from pyspark.sql.functions import month, col"
   ]
  },
  {
   "cell_type": "code",
   "execution_count": 4,
   "id": "99612b68-7e81-4103-8869-cc5dab78ae30",
   "metadata": {},
   "outputs": [],
   "source": [
    "spark = SparkSession.builder.appName(\"PomPy\").getOrCreate()"
   ]
  },
  {
   "cell_type": "code",
   "execution_count": 7,
   "id": "a8dfbef2-db34-47cd-be4f-a728d1926749",
   "metadata": {},
   "outputs": [],
   "source": [
    "file_path = \"home/alvinnguyen41/ProjectSpark/Furniture_and_Technology_trade.csv\"\n",
    "Furniture_and_Technology_trade_df = spark.read.csv(\"hdfs://localhost:9000/user/alvinnguyen41/ProjectSpark/input/Furniture_and_Technology_trade.csv\")\n"
   ]
  },
  {
   "cell_type": "code",
   "execution_count": 6,
   "id": "e3729648-eb14-41cb-ae15-766437920593",
   "metadata": {},
   "outputs": [
    {
     "name": "stdout",
     "output_type": "stream",
     "text": [
      "+-------------+----------+---------+-----------+-----------+--------+-----+-----------+------+----------+\n",
      "|          _c0|       _c1|      _c2|        _c3|        _c4|     _c5|  _c6|        _c7|   _c8|       _c9|\n",
      "+-------------+----------+---------+-----------+-----------+--------+-----+-----------+------+----------+\n",
      "|TransactionID|      Date|ProductID|ProductName|   Category|Quantity|Price|TotalAmount|Region|CustomerID|\n",
      "|            1|2024-12-02|      P02|     Laptop|Electronics|       2|  100|        200|  West|       101|\n",
      "|            2|2024-12-03|      P03|      Chair|  Furniture|       3|  150|        450| South|       102|\n",
      "|            3|2024-12-04|      P04|      Table|  Furniture|       4|  200|        800|  East|       103|\n",
      "|            4|2024-12-05|      P05| Smartphone|Electronics|       5|  250|       1250| North|       104|\n",
      "|            5|2024-12-06|      P06|     Laptop|Electronics|       6|  300|       1800|  West|       105|\n",
      "|            6|2024-12-07|      P07|      Chair|  Furniture|       7|  350|       2450| South|       106|\n",
      "|            7|2024-12-08|      P08|      Table|  Furniture|       8|  400|       3200|  East|       107|\n",
      "|            8|2024-12-09|      P09| Smartphone|Electronics|       9|  450|       4050| North|       108|\n",
      "|            9|2024-12-10|      P10|     Laptop|Electronics|      10|  500|       5000|  West|       109|\n",
      "|           10|2024-12-11|      P11|      Chair|  Furniture|       1|   50|         50| South|       110|\n",
      "|           11|2024-12-12|      P12|      Table|  Furniture|       2|  100|        200|  East|       111|\n",
      "|           12|2024-12-13|      P13| Smartphone|Electronics|       3|  150|        450| North|       112|\n",
      "|           13|2024-12-14|      P14|     Laptop|Electronics|       4|  200|        800|  West|       113|\n",
      "|           14|2024-12-15|      P15|      Chair|  Furniture|       5|  250|       1250| South|       114|\n",
      "|           15|2024-12-16|      P16|      Table|  Furniture|       6|  300|       1800|  East|       115|\n",
      "|           16|2024-12-17|      P17| Smartphone|Electronics|       7|  350|       2450| North|       116|\n",
      "|           17|2024-12-18|      P18|     Laptop|Electronics|       8|  400|       3200|  West|       117|\n",
      "|           18|2024-12-19|      P19|      Chair|  Furniture|       9|  450|       4050| South|       118|\n",
      "|           19|2024-12-20|      P20|      Table|  Furniture|      10|  500|       5000|  East|       119|\n",
      "+-------------+----------+---------+-----------+-----------+--------+-----+-----------+------+----------+\n",
      "only showing top 20 rows\n",
      "\n"
     ]
    }
   ],
   "source": [
    "Furniture_and_Technology_trade_df.show()"
   ]
  },
  {
   "cell_type": "markdown",
   "id": "e0cfb3bb-3490-4efa-8208-f739ff23f63f",
   "metadata": {},
   "source": [
    "# Tinh tong doanh thu khu vuc\n"
   ]
  },
  {
   "cell_type": "code",
   "execution_count": 24,
   "id": "a1f6b4f4-5ee6-4851-9cd6-21a35f1c7a9c",
   "metadata": {},
   "outputs": [],
   "source": [
    "Furniture_and_Technology_trade_df = Furniture_and_Technology_trade_df.withColumnRenamed(\"_c7\", \"TotalAmount\").withColumnRenamed(\"_c8\", \"Region\")"
   ]
  },
  {
   "cell_type": "code",
   "execution_count": 28,
   "id": "70600bcb-b60a-42dd-b92a-651c81e4cfa4",
   "metadata": {},
   "outputs": [],
   "source": [
    "Furniture_and_Technology_trade_df = Furniture_and_Technology_trade_df.withColumn(\"TotalAmount\", col(\"TotalAmount\").cast(\"double\"))"
   ]
  },
  {
   "cell_type": "code",
   "execution_count": 29,
   "id": "5c2b73e7-c3b8-48a3-a8f2-098464991cf3",
   "metadata": {},
   "outputs": [],
   "source": [
    "region_revenue = Furniture_and_Technology_trade_df.groupBy(\"Region\").sum(\"TotalAmount\")"
   ]
  },
  {
   "cell_type": "code",
   "execution_count": 30,
   "id": "eaddef9c-59b3-4dd8-bcf1-55929aba1a89",
   "metadata": {},
   "outputs": [
    {
     "name": "stdout",
     "output_type": "stream",
     "text": [
      "+------+----------------+\n",
      "|Region|sum(TotalAmount)|\n",
      "+------+----------------+\n",
      "|Region|            NULL|\n",
      "| South|         41250.0|\n",
      "|  East|         55000.0|\n",
      "|  West|         55000.0|\n",
      "| North|         41250.0|\n",
      "+------+----------------+\n",
      "\n"
     ]
    }
   ],
   "source": [
    "region_revenue.show()"
   ]
  },
  {
   "cell_type": "code",
   "execution_count": 31,
   "id": "3fc08c52-dc94-4338-a9e8-116a5898b1cd",
   "metadata": {},
   "outputs": [],
   "source": [
    "Furniture_and_Technology_trade_df = Furniture_and_Technology_trade_df.withColumnRenamed(\"_c3\", \"ProductName\").withColumnRenamed(\"_c5\", \"Quantity\")"
   ]
  },
  {
   "cell_type": "code",
   "execution_count": 32,
   "id": "bcf70aab-e546-4484-8da6-68a145641b53",
   "metadata": {},
   "outputs": [],
   "source": [
    "Furniture_and_Technology_trade_df = Furniture_and_Technology_trade_df.withColumn(\"Quantity\", col(\"Quantity\").cast(\"double\"))"
   ]
  },
  {
   "cell_type": "code",
   "execution_count": 34,
   "id": "a058f2ce-c078-4955-98d4-81a84db4eab8",
   "metadata": {},
   "outputs": [],
   "source": [
    "top_product = Furniture_and_Technology_trade_df.groupBy(\"ProductName\").sum(\"Quantity\").orderBy(\"sum(Quantity)\", ascending=False)"
   ]
  },
  {
   "cell_type": "code",
   "execution_count": 35,
   "id": "06203f09-4975-4d6c-89dd-ad737af00630",
   "metadata": {},
   "outputs": [
    {
     "name": "stdout",
     "output_type": "stream",
     "text": [
      "+-----------+-------------+\n",
      "|ProductName|sum(Quantity)|\n",
      "+-----------+-------------+\n",
      "|     Laptop|        150.0|\n",
      "|      Table|        150.0|\n",
      "|      Chair|        125.0|\n",
      "| Smartphone|        125.0|\n",
      "|ProductName|         NULL|\n",
      "+-----------+-------------+\n",
      "\n"
     ]
    }
   ],
   "source": [
    "top_product.show()"
   ]
  },
  {
   "cell_type": "code",
   "execution_count": 48,
   "id": "527baa36-47bc-4775-b1d9-b3892cf1f477",
   "metadata": {},
   "outputs": [],
   "source": [
    "Furniture_and_Technology_trade_df = Furniture_and_Technology_trade_df.withColumnRenamed(\"_c1\", \"Date\")"
   ]
  },
  {
   "cell_type": "code",
   "execution_count": 49,
   "id": "f3debe37-28c8-496d-99d1-39c258690cc9",
   "metadata": {},
   "outputs": [],
   "source": [
    "Furniture_and_Technology_trade_df = Furniture_and_Technology_trade_df.withColumn(\"Month\", month(col(\"Date\")))"
   ]
  },
  {
   "cell_type": "code",
   "execution_count": 50,
   "id": "b7e26037-dc28-4a5b-8f8c-cbae2cf226c0",
   "metadata": {},
   "outputs": [],
   "source": [
    "monthly_revenue = Furniture_and_Technology_trade_df.groupBy(\"Month\").sum(\"TotalAmount\").orderBy(\"Month\")"
   ]
  },
  {
   "cell_type": "code",
   "execution_count": 51,
   "id": "2f5ac42b-9f3a-4d0a-9432-3f7ed52f1b32",
   "metadata": {},
   "outputs": [
    {
     "name": "stdout",
     "output_type": "stream",
     "text": [
      "+-----+----------------+\n",
      "|Month|sum(TotalAmount)|\n",
      "+-----+----------------+\n",
      "| NULL|            NULL|\n",
      "|   12|        192500.0|\n",
      "+-----+----------------+\n",
      "\n"
     ]
    }
   ],
   "source": [
    "monthly_revenue.show()"
   ]
  },
  {
   "cell_type": "code",
   "execution_count": null,
   "id": "520ec8a8-ab55-4a16-ae8e-3669c80e1a08",
   "metadata": {},
   "outputs": [],
   "source": []
  }
 ],
 "metadata": {
  "kernelspec": {
   "display_name": "Python 3 (ipykernel)",
   "language": "python",
   "name": "python3"
  },
  "language_info": {
   "codemirror_mode": {
    "name": "ipython",
    "version": 3
   },
   "file_extension": ".py",
   "mimetype": "text/x-python",
   "name": "python",
   "nbconvert_exporter": "python",
   "pygments_lexer": "ipython3",
   "version": "3.12.3"
  }
 },
 "nbformat": 4,
 "nbformat_minor": 5
}
